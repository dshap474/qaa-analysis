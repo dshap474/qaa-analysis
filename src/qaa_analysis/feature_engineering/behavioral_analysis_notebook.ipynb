{
  "cells": [
    {
      "cell_type": "raw",
      "metadata": {
        "vscode": {
          "languageId": "raw"
        }
      },
      "source": [
        "# User Behavioral Features Analysis\n",
        "\n",
        "Interactive analysis of DeFi user behavioral features extracted from transaction data.\n",
        "\n",
        "**Dataset**: User behavioral features parquet file  \n",
        "**Features**: 67 behavioral features across protocol, temporal, and value dimensions  \n",
        "**Users**: 10,137 unique DeFi users\n"
      ]
    },
    {
      "cell_type": "code",
      "execution_count": null,
      "metadata": {},
      "outputs": [],
      "source": [
        "# Import required libraries\n",
        "import pandas as pd\n",
        "import numpy as np\n",
        "import matplotlib.pyplot as plt\n",
        "import seaborn as sns\n",
        "from pathlib import Path\n",
        "import warnings\n",
        "\n",
        "# Import our behavioral analyzer\n",
        "from behavioral_analysis import BehavioralAnalyzer\n",
        "\n",
        "# Configuration\n",
        "warnings.filterwarnings('ignore')\n",
        "plt.style.use('default')\n",
        "sns.set_palette(\"husl\")\n",
        "\n",
        "# Set display options\n",
        "pd.set_option('display.max_columns', None)\n",
        "pd.set_option('display.width', None)\n",
        "pd.set_option('display.max_colwidth', 50)\n",
        "\n",
        "print(\"✅ Libraries imported successfully!\")\n"
      ]
    }
  ],
  "metadata": {
    "language_info": {
      "name": "python"
    }
  },
  "nbformat": 4,
  "nbformat_minor": 2
}
